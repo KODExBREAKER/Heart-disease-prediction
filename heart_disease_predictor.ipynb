{
  "cells": [
    {
      "cell_type": "code",
      "execution_count": 1,
      "metadata": {
        "colab": {
          "base_uri": "https://localhost:8080/"
        },
        "id": "VspgfsrzM11X",
        "outputId": "29f2c4e9-f17c-43fd-be67-22fe3e8c1514"
      },
      "outputs": [
        {
          "ename": "ModuleNotFoundError",
          "evalue": "No module named 'google.colab'",
          "output_type": "error",
          "traceback": [
            "\u001b[1;31m---------------------------------------------------------------------------\u001b[0m",
            "\u001b[1;31mModuleNotFoundError\u001b[0m                       Traceback (most recent call last)",
            "\u001b[1;32m<ipython-input-1-d5df0069828e>\u001b[0m in \u001b[0;36m<module>\u001b[1;34m\u001b[0m\n\u001b[1;32m----> 1\u001b[1;33m \u001b[1;32mfrom\u001b[0m \u001b[0mgoogle\u001b[0m\u001b[1;33m.\u001b[0m\u001b[0mcolab\u001b[0m \u001b[1;32mimport\u001b[0m \u001b[0mdrive\u001b[0m\u001b[1;33m\u001b[0m\u001b[1;33m\u001b[0m\u001b[0m\n\u001b[0m\u001b[0;32m      2\u001b[0m \u001b[0mdrive\u001b[0m\u001b[1;33m.\u001b[0m\u001b[0mmount\u001b[0m\u001b[1;33m(\u001b[0m\u001b[1;34m'/content/drive'\u001b[0m\u001b[1;33m)\u001b[0m\u001b[1;33m\u001b[0m\u001b[1;33m\u001b[0m\u001b[0m\n",
            "\u001b[1;31mModuleNotFoundError\u001b[0m: No module named 'google.colab'"
          ]
        }
      ],
      "source": [
        "from google.colab import drive\n",
        "drive.mount('/content/drive')"
      ]
    },
    {
      "cell_type": "code",
      "execution_count": null,
      "metadata": {
        "id": "x3KFHzdsNly8"
      },
      "outputs": [],
      "source": [
        "# Regular EDA and plotting libraries\n",
        "import pandas as pd\n",
        "import numpy as np\n",
        "import matplotlib.pyplot as plt\n",
        "import seaborn as sns"
      ]
    },
    {
      "cell_type": "code",
      "execution_count": null,
      "metadata": {
        "id": "kLPO-ZJFRxQi"
      },
      "outputs": [],
      "source": [
        "# We want our plot to appear inside the notebook\n",
        "%matplotlib inline\n",
        "\n",
        "# Models from Scikit-Learn\n",
        "from sklearn.linear_model import LogisticRegression\n",
        "from sklearn.neighbors import KNeighborsClassifier\n",
        "from sklearn.ensemble import RandomForestClassifier\n",
        "from sklearn.tree import DecisionTreeClassifier\n",
        "\n",
        "# Model Evaluations\n",
        "from sklearn.model_selection import train_test_split,cross_val_score\n",
        "from sklearn.model_selection import RandomizedSearchCV,GridSearchCV\n",
        "from sklearn.metrics import confusion_matrix, classification_report\n",
        "from sklearn.metrics import roc_curve,plot_roc_curve\n",
        "\n",
        "# Ignoring the warnings\n",
        "import warnings\n",
        "warnings.filterwarnings(\"ignore\")"
      ]
    },
    {
      "cell_type": "code",
      "execution_count": null,
      "metadata": {
        "colab": {
          "base_uri": "https://localhost:8080/",
          "height": 488
        },
        "id": "NI2TJxK8NCP1",
        "outputId": "a75f0407-75ea-4c4a-e9b9-0474da20deae"
      },
      "outputs": [],
      "source": [
        "data = pd.read_csv(\"/content/drive/MyDrive/Heart-disease-prediction/heart.csv\")\n",
        "data"
      ]
    },
    {
      "cell_type": "markdown",
      "metadata": {
        "id": "vnDYhTv8PZ2o"
      },
      "source": [
        "# **Renaming Columns for better understanding**\n"
      ]
    },
    {
      "cell_type": "code",
      "execution_count": null,
      "metadata": {
        "id": "f-ZvPQ-ONbAv"
      },
      "outputs": [],
      "source": [
        "data.rename(columns={'age':'Age','sex':'Sex','cp':'Chest_pain','trestbps':'Resting_blood_pressure','chol':'Cholesterol','fbs':'Fasting_Blood_Sugar','restecg':'Resting_ECG','thalach':'Max_heart_rate_achieved','exang':'Exercise_induced_angina','oldpeak':'ST_depression_induced_by_exercise_relative_to_rest','slope':'Peak_exercise_ST_segment','ca':'Number_of_major_vessels_colored_by_fluoroscopy','thal':'Thalassemia_types','target':'Heart_disease'}, inplace=True)"
      ]
    },
    {
      "cell_type": "code",
      "execution_count": null,
      "metadata": {
        "colab": {
          "base_uri": "https://localhost:8080/",
          "height": 488
        },
        "id": "P4qdhyy-Psz4",
        "outputId": "80bc6b65-c39b-491b-c31d-9b56395b42ff"
      },
      "outputs": [],
      "source": [
        "data"
      ]
    },
    {
      "cell_type": "markdown",
      "metadata": {
        "id": "B0dvBR1XXP09"
      },
      "source": [
        "# **Information about DATA**"
      ]
    },
    {
      "cell_type": "code",
      "execution_count": null,
      "metadata": {
        "colab": {
          "base_uri": "https://localhost:8080/",
          "height": 729
        },
        "id": "eErxfH0CW4yx",
        "outputId": "0946b5b1-39d9-4a54-c5df-a647eb6208bd"
      },
      "outputs": [],
      "source": [
        "data.info()\n",
        "data.describe()"
      ]
    },
    {
      "cell_type": "markdown",
      "metadata": {
        "id": "Y4xdv8nTXllN"
      },
      "source": [
        "# **Correlation matrix & Matrix Visualisation**"
      ]
    },
    {
      "cell_type": "code",
      "execution_count": null,
      "metadata": {
        "colab": {
          "base_uri": "https://localhost:8080/",
          "height": 526
        },
        "id": "x4ItuVgPXJ8-",
        "outputId": "4f5d2cd4-6885-44d8-a4c5-fe6b6b4d3ac2"
      },
      "outputs": [],
      "source": [
        "data.corr()\n",
        "\n",
        "# Matrix visualisation\n",
        "corr_matrix=data.corr()\n",
        "fig,ax=plt.subplots(figsize=(15,10))\n",
        "ax=sns.heatmap(corr_matrix,annot=True,linewidths=0.5,fmt=\".2f\")"
      ]
    },
    {
      "cell_type": "markdown",
      "metadata": {
        "id": "77tIIpOIZdYT"
      },
      "source": [
        "# **Target variable (Heart Disease-> 0(absence), 1(present))**"
      ]
    },
    {
      "cell_type": "code",
      "execution_count": null,
      "metadata": {
        "colab": {
          "base_uri": "https://localhost:8080/"
        },
        "id": "nHx0t4P7XkE5",
        "outputId": "7cbaf596-dee9-44c2-da57-4ae9ac26784e"
      },
      "outputs": [],
      "source": [
        "# Count 0 and 1\n",
        "data['Heart_disease'].value_counts()\n",
        "\n",
        "# Represent these in %age\n",
        "countNoDisease = len(data[data.Heart_disease==0])\n",
        "countHaveDisease = len(data[data.Heart_disease==1])\n",
        "print(\"Percentage of patients not having Heart Disease: {:.2f}%\".format((countNoDisease / (len(data.Heart_disease))*100)))\n",
        "print(\"Percentage of patients having Heart Disease: {:.2f}%\".format((countHaveDisease / (len(data.Heart_disease))*100)))"
      ]
    },
    {
      "cell_type": "markdown",
      "metadata": {
        "id": "nb5sQN36dG_H"
      },
      "source": [
        "# **Heart Disease Frequency per Chest Pain Type**"
      ]
    },
    {
      "cell_type": "code",
      "execution_count": null,
      "metadata": {
        "colab": {
          "base_uri": "https://localhost:8080/",
          "height": 295
        },
        "id": "ay0uBIGrawaX",
        "outputId": "9d39016a-0aa6-49ce-889c-28e8960f2a72"
      },
      "outputs": [],
      "source": [
        "# Relation of Heart disease with Chest Pain type\n",
        "pd.crosstab(data['Chest_pain'],data['Heart_disease'])\n",
        "\n",
        "# Visualisation\n",
        "pd.crosstab(data['Chest_pain'],data['Heart_disease']).plot(kind='bar')\n",
        "plt.title(\"Heart Disease Frequency per Chest Pain Type\")\n",
        "plt.xlabel(\"Chest Pain Types\")\n",
        "plt.ylabel(\"Amount\")\n",
        "plt.legend(['No disease','Disease'])\n",
        "plt.xticks(rotation=0);"
      ]
    },
    {
      "cell_type": "markdown",
      "metadata": {
        "id": "Lbvprp5OgsMb"
      },
      "source": [
        "**Interpretation:**\n",
        "The above plot shows frequency of each chest pain type for the population having and not having disease where type 0 is greater and where the population is more prone to not having disease"
      ]
    },
    {
      "cell_type": "markdown",
      "metadata": {
        "id": "i71XsbMJhRcI"
      },
      "source": [
        "# **Resting Blood Pressure**"
      ]
    },
    {
      "cell_type": "code",
      "execution_count": null,
      "metadata": {
        "colab": {
          "base_uri": "https://localhost:8080/",
          "height": 282
        },
        "id": "1NY0DGe9gDOX",
        "outputId": "83771f63-8d32-4041-a201-6bda4cf863c5"
      },
      "outputs": [],
      "source": [
        "data['Resting_blood_pressure'].plot(kind='kde')"
      ]
    },
    {
      "cell_type": "markdown",
      "metadata": {
        "id": "Madd-T--hy4m"
      },
      "source": [
        "**Interpretation:**\n",
        "The above plot shows the density of Resting blood pressure and the maximum density is around 120-140"
      ]
    },
    {
      "cell_type": "markdown",
      "metadata": {
        "id": "cHimIvzpiU8X"
      },
      "source": [
        "# **Heart Disease vs Fasting Blood Sugar**"
      ]
    },
    {
      "cell_type": "code",
      "execution_count": null,
      "metadata": {
        "colab": {
          "base_uri": "https://localhost:8080/",
          "height": 295
        },
        "id": "CJbnqDoChxjU",
        "outputId": "ca5f195b-f20e-41df-f80c-0ec598bf4322"
      },
      "outputs": [],
      "source": [
        "data['Fasting_Blood_Sugar'].value_counts()\n",
        "\n",
        "# Comparision\n",
        "pd.crosstab(data['Heart_disease'],data['Fasting_Blood_Sugar']).plot(kind=\"bar\");\n",
        "plt.title(\"Heart Disease Frequency vs Fasting Blood Sugar\")\n",
        "plt.xlabel(\"0 = No Disease , 1 = Disease\")\n",
        "plt.ylabel(\"Amount\")\n",
        "plt.legend(['0','1'])\n",
        "plt.xticks(rotation=0);"
      ]
    },
    {
      "cell_type": "markdown",
      "metadata": {
        "id": "dARZjwpWkoAT"
      },
      "source": [
        "**Interpretation:**\n",
        "The above plot shows that the sugar level does not contribute to having or not having the heart disease"
      ]
    },
    {
      "cell_type": "markdown",
      "metadata": {
        "id": "fIlhxwbuk_L9"
      },
      "source": [
        "# **Heart Disease vs ECG Results**"
      ]
    },
    {
      "cell_type": "code",
      "execution_count": null,
      "metadata": {
        "colab": {
          "base_uri": "https://localhost:8080/",
          "height": 295
        },
        "id": "H8sBahPOjXyl",
        "outputId": "45dec9f8-1be3-45f8-c43a-5bb6dd22099d"
      },
      "outputs": [],
      "source": [
        "# Compare Heart disease with ECG Results\n",
        "pd.crosstab(data['Heart_disease'],data['Resting_ECG'])\n",
        "\n",
        "# Visualisation\n",
        "pd.crosstab(data['Resting_ECG'],data['Heart_disease']).plot(kind=\"bar\")\n",
        "plt.title(\"Heart Disease Frequency per Resting_ECG\")\n",
        "plt.xlabel(\"ECG Result Types\")\n",
        "plt.ylabel(\"Amount\")\n",
        "plt.legend(['No disease','Disease'])\n",
        "plt.xticks(rotation=0);"
      ]
    },
    {
      "cell_type": "markdown",
      "metadata": {
        "id": "zFqX4WAimpkE"
      },
      "source": [
        "**Interpretation:**\n",
        "The above plot shows frequency of each ECG type for the population having and not having disease where type 1 is greater and more prone to having disease"
      ]
    },
    {
      "cell_type": "markdown",
      "metadata": {
        "id": "9HWPTSpgnFSS"
      },
      "source": [
        "# **Heart Disease vs Thalassemia Types**"
      ]
    },
    {
      "cell_type": "code",
      "execution_count": null,
      "metadata": {
        "colab": {
          "base_uri": "https://localhost:8080/",
          "height": 296
        },
        "id": "SLouJ_xrmleS",
        "outputId": "7daccf74-a96d-416c-ebcb-1e27993e9eb4"
      },
      "outputs": [],
      "source": [
        "# Visualisation\n",
        "pd.crosstab(data['Thalassemia_types'],data['Heart_disease']).plot(kind=\"bar\")\n",
        "plt.title(\"Heart Disease Frequency per Thalassemia_types\")\n",
        "plt.xlabel(\"Thalassemia_types\")\n",
        "plt.ylabel(\"Amount\")\n",
        "plt.legend(['No disease','Disease'])\n",
        "plt.xticks(rotation=0);"
      ]
    },
    {
      "cell_type": "markdown",
      "metadata": {
        "id": "MzOkzjDKnro9"
      },
      "source": [
        "**Interpretation:**\n",
        "The above plot shows frequency of each Thalassemia type for the population having and not having disease where type 2 is greater and is more prone to having disease"
      ]
    },
    {
      "cell_type": "markdown",
      "metadata": {
        "id": "2CyxMAWyoHgL"
      },
      "source": [
        "# **Modelling**"
      ]
    },
    {
      "cell_type": "markdown",
      "metadata": {
        "id": "A3COBE_poNz9"
      },
      "source": [
        "**Splitting data**"
      ]
    },
    {
      "cell_type": "code",
      "execution_count": null,
      "metadata": {
        "id": "A4II2x0bnpQk"
      },
      "outputs": [],
      "source": [
        "X=data.drop('Heart_disease',axis=1)\n",
        "y=data['Heart_disease']\n",
        "X_train,X_test,y_train,y_test=train_test_split(X,y,test_size=0.2,random_state=42)"
      ]
    },
    {
      "cell_type": "markdown",
      "metadata": {
        "id": "yg6DvuFa5hzf"
      },
      "source": [
        "**1.Logistic Regression**"
      ]
    },
    {
      "cell_type": "code",
      "execution_count": null,
      "metadata": {
        "colab": {
          "base_uri": "https://localhost:8080/"
        },
        "id": "P6Og_FsO5GTP",
        "outputId": "0c4b6994-d70b-4a51-96b4-4a8e06fdafe2"
      },
      "outputs": [],
      "source": [
        "lr_model=LogisticRegression()\n",
        "lr_model.fit(X_train,y_train)\n",
        "# Training score\n",
        "print(\"Training score of model is \",lr_model.score(X_train,y_train))\n",
        "# Prediciton of the test variable\n",
        "lr_model_y_preds=lr_model.predict(X_test)\n",
        "# Testing Accuracy\n",
        "print(\"Testing Accuracy is \",lr_model.score(X_test,y_test))"
      ]
    },
    {
      "cell_type": "markdown",
      "metadata": {
        "id": "ZxOqaERW7cgh"
      },
      "source": [
        "**Confusion Martix**"
      ]
    },
    {
      "cell_type": "code",
      "execution_count": null,
      "metadata": {
        "colab": {
          "base_uri": "https://localhost:8080/",
          "height": 243
        },
        "id": "5vJ08OCO7beh",
        "outputId": "84c1f011-d0ba-43ca-a890-871dc25785e1"
      },
      "outputs": [],
      "source": [
        "sns.set(font_scale=1.5)\n",
        "def plot_conf_mat(y_test,y_preds):\n",
        "  fig,ax=plt.subplots(figsize=(3,3))\n",
        "  ax=sns.heatmap(confusion_matrix(y_test,y_preds),annot=True,cbar=False)\n",
        "  plt.xlabel(\"True Label\")\n",
        "  plt.ylabel(\"Predicted Label\")\n",
        "\n",
        "plot_conf_mat(y_test,lr_model_y_preds)"
      ]
    },
    {
      "cell_type": "code",
      "execution_count": null,
      "metadata": {
        "colab": {
          "base_uri": "https://localhost:8080/"
        },
        "id": "69G3KGD48xYT",
        "outputId": "1411a492-6255-4479-9195-aac06677f18d"
      },
      "outputs": [],
      "source": [
        "print(classification_report(y_test,lr_model_y_preds))"
      ]
    },
    {
      "cell_type": "markdown",
      "metadata": {
        "id": "reuBauvX9CB9"
      },
      "source": [
        "**2. K-Nearest Neighbour**"
      ]
    },
    {
      "cell_type": "code",
      "execution_count": null,
      "metadata": {
        "colab": {
          "base_uri": "https://localhost:8080/"
        },
        "id": "K8lOfwiR88W9",
        "outputId": "24cf66d8-6338-44e7-a8b3-28e8e8f6cf9d"
      },
      "outputs": [],
      "source": [
        "knn=KNeighborsClassifier()\n",
        "knn.fit(X_train,y_train)\n",
        "# Training score\n",
        "print(\"Training score of model is \",knn.score(X_train,y_train))\n",
        "# Prediciton of the test variable\n",
        "knn_y_preds=knn.predict(X_test)\n",
        "# Testing Accuracy\n",
        "print(\"Testing Accuracy is \",knn.score(X_test,y_test))"
      ]
    },
    {
      "cell_type": "markdown",
      "metadata": {
        "id": "j2JPdmlMA5rY"
      },
      "source": [
        "**Confusion Matrix**"
      ]
    },
    {
      "cell_type": "code",
      "execution_count": null,
      "metadata": {
        "colab": {
          "base_uri": "https://localhost:8080/",
          "height": 243
        },
        "id": "vRtydv6S9e-i",
        "outputId": "e9144cb0-be28-405e-c3bb-b2980e107982"
      },
      "outputs": [],
      "source": [
        "sns.set(font_scale=1.5)\n",
        "def plot_conf_mat(y_test,y_preds):\n",
        "  fig,ax=plt.subplots(figsize=(3,3))\n",
        "  ax=sns.heatmap(confusion_matrix(y_test,y_preds),annot=True,cbar=False)\n",
        "  plt.xlabel(\"True Label\")\n",
        "  plt.ylabel(\"Predicted Label\")\n",
        "\n",
        "plot_conf_mat(y_test,knn_y_preds)"
      ]
    },
    {
      "cell_type": "code",
      "execution_count": null,
      "metadata": {
        "colab": {
          "base_uri": "https://localhost:8080/"
        },
        "id": "xxhu2u1ZAM2q",
        "outputId": "51a7e1f9-6110-4d4f-d67d-11c0c9014e19"
      },
      "outputs": [],
      "source": [
        "print(classification_report(y_test,knn_y_preds))"
      ]
    },
    {
      "cell_type": "markdown",
      "metadata": {
        "id": "usE_jVWzAW3j"
      },
      "source": [
        "**3. Random Forest**"
      ]
    },
    {
      "cell_type": "code",
      "execution_count": null,
      "metadata": {
        "colab": {
          "base_uri": "https://localhost:8080/"
        },
        "id": "i4itnGN-ASmz",
        "outputId": "ba1898c9-0fa4-4455-9c63-b908805764a4"
      },
      "outputs": [],
      "source": [
        "rf_model=RandomForestClassifier()\n",
        "rf_model.fit(X_train,y_train)\n",
        "# Training score\n",
        "print(\"Training score of model is \",rf_model.score(X_train,y_train))\n",
        "# Prediciton of the test variable\n",
        "rf_model_y_preds=rf_model.predict(X_test)\n",
        "# Testing Accuracy\n",
        "print(\"Testing Accuracy is \",rf_model.score(X_test,y_test))"
      ]
    },
    {
      "cell_type": "markdown",
      "metadata": {
        "id": "qQ1zdnDnBAbf"
      },
      "source": [
        "**Confusion Matrix**"
      ]
    },
    {
      "cell_type": "code",
      "execution_count": null,
      "metadata": {
        "colab": {
          "base_uri": "https://localhost:8080/",
          "height": 243
        },
        "id": "Q_aQ6OVlAtiM",
        "outputId": "e19dd75d-df77-45dd-de87-f9c374e57691"
      },
      "outputs": [],
      "source": [
        "sns.set(font_scale=1.5)\n",
        "def plot_conf_mat(y_test,y_preds):\n",
        "  fig,ax=plt.subplots(figsize=(3,3))\n",
        "  ax=sns.heatmap(confusion_matrix(y_test,y_preds),annot=True,cbar=False)\n",
        "  plt.xlabel(\"True Label\")\n",
        "  plt.ylabel(\"Predicted Label\")\n",
        "\n",
        "plot_conf_mat(y_test,rf_model_y_preds)"
      ]
    },
    {
      "cell_type": "code",
      "execution_count": null,
      "metadata": {
        "colab": {
          "base_uri": "https://localhost:8080/"
        },
        "id": "FthGvNHTBGvW",
        "outputId": "e74fc214-bfa5-45df-f9c8-8c77b50c90d5"
      },
      "outputs": [],
      "source": [
        "print(classification_report(y_test,rf_model_y_preds))"
      ]
    },
    {
      "cell_type": "markdown",
      "metadata": {
        "id": "G1loGN_TCuxl"
      },
      "source": [
        "**4. Decision Tree**"
      ]
    },
    {
      "cell_type": "code",
      "execution_count": null,
      "metadata": {
        "colab": {
          "base_uri": "https://localhost:8080/"
        },
        "id": "0cU3alnNBPVN",
        "outputId": "615c2e46-07e0-43cb-9b8e-acf66e233f02"
      },
      "outputs": [],
      "source": [
        "dt_model=DecisionTreeClassifier()\n",
        "dt_model.fit(X_train,y_train)\n",
        "# Training score\n",
        "print(\"Training score of model is \",dt_model.score(X_train,y_train))\n",
        "# Prediciton of the test variable\n",
        "dt_model_y_preds=dt_model.predict(X_test)\n",
        "# Testing Accuracy\n",
        "print(\"Testing Accuracy is \",dt_model.score(X_test,y_test))"
      ]
    },
    {
      "cell_type": "markdown",
      "metadata": {
        "id": "SRyziA4QDW_R"
      },
      "source": [
        "**Confusion Matrix**"
      ]
    },
    {
      "cell_type": "code",
      "execution_count": null,
      "metadata": {
        "colab": {
          "base_uri": "https://localhost:8080/",
          "height": 243
        },
        "id": "BY9sqN4qDSso",
        "outputId": "4275f3be-58f4-4132-e410-edc13e43d246"
      },
      "outputs": [],
      "source": [
        "sns.set(font_scale=1.5)\n",
        "def plot_conf_mat(y_test,y_preds):\n",
        "  fig,ax=plt.subplots(figsize=(3,3))\n",
        "  ax=sns.heatmap(confusion_matrix(y_test,y_preds),annot=True,cbar=False)\n",
        "  plt.xlabel(\"True Label\")\n",
        "  plt.ylabel(\"Predicted Label\")\n",
        "\n",
        "plot_conf_mat(y_test,dt_model_y_preds)"
      ]
    },
    {
      "cell_type": "code",
      "execution_count": null,
      "metadata": {
        "colab": {
          "base_uri": "https://localhost:8080/"
        },
        "id": "3PiPhD4LDdn_",
        "outputId": "7f7ee6be-bb06-4850-f7d2-d4ac4f9ea8f1"
      },
      "outputs": [],
      "source": [
        "print(classification_report(y_test,dt_model_y_preds))"
      ]
    },
    {
      "cell_type": "markdown",
      "metadata": {
        "id": "j9NhWqZyD0Af"
      },
      "source": [
        "#**Model Comparison based on Accuracy**"
      ]
    },
    {
      "cell_type": "code",
      "execution_count": null,
      "metadata": {
        "colab": {
          "base_uri": "https://localhost:8080/",
          "height": 81
        },
        "id": "KKoJ__ylDjUa",
        "outputId": "5502b400-ddbd-424a-8e93-ba71aaac0f49"
      },
      "outputs": [],
      "source": [
        "model_scores={'Logistic Regression':lr_model.score(X_test,y_test),\n",
        "              'KNN':knn.score(X_test,y_test),\n",
        "              'Random Forest':rf_model.score(X_test,y_test),\n",
        "              'Decision Tree':dt_model.score(X_test,y_test)}\n",
        "model_compare=pd.DataFrame(model_scores,index=['accuracy'])\n",
        "model_compare"
      ]
    },
    {
      "cell_type": "markdown",
      "metadata": {
        "id": "-YWyubnxIZMf"
      },
      "source": [
        "#**Selecting model:**\n",
        "Based on the above analysis, Logistic Regression model is selected which got an accuracy of 89%."
      ]
    },
    {
      "cell_type": "markdown",
      "metadata": {
        "id": "AuUuTL9Jq_A4"
      },
      "source": [
        "**Feature Importance**"
      ]
    },
    {
      "cell_type": "code",
      "execution_count": null,
      "metadata": {
        "colab": {
          "base_uri": "https://localhost:8080/"
        },
        "id": "D8Mx9zPQlxaY",
        "outputId": "43a1de47-1658-4e44-fb23-b58e71ae3366"
      },
      "outputs": [],
      "source": [
        "lr_model.coef_"
      ]
    },
    {
      "cell_type": "code",
      "execution_count": null,
      "metadata": {
        "colab": {
          "base_uri": "https://localhost:8080/"
        },
        "id": "tSGT2Up4rbO2",
        "outputId": "5526c5e9-c07b-45b8-d367-86c15e7441d1"
      },
      "outputs": [],
      "source": [
        "feature_dict=dict(zip(data.columns,list(lr_model.coef_[0])))\n",
        "feature_dict"
      ]
    },
    {
      "cell_type": "code",
      "execution_count": null,
      "metadata": {
        "colab": {
          "base_uri": "https://localhost:8080/",
          "height": 728
        },
        "id": "K8YtxL3yu7TR",
        "outputId": "27ee30d8-7467-45e4-d254-5d77d428bbec"
      },
      "outputs": [],
      "source": [
        "# Visualize feature importance\n",
        "feature_data=pd.DataFrame(feature_dict,index=[0])\n",
        "feature_data.T.plot(kind=\"bar\",legend=False,title=\"Feature Importance\")"
      ]
    },
    {
      "cell_type": "markdown",
      "metadata": {
        "id": "Qwb4S58HxEro"
      },
      "source": [
        "**Saving the Model using pickle**"
      ]
    },
    {
      "cell_type": "code",
      "execution_count": null,
      "metadata": {
        "id": "JyA_rYgPwKwb"
      },
      "outputs": [],
      "source": [
        "# We don't want our python program to run again-again whenever using our website, so we train the Reg_model once and\n",
        "# import it somewhere else from where we can directly fetch it\n",
        "# So we are dumping the Reg_model using Pickle into a file Model.pkl \n",
        "import pickle\n",
        "pickle.dump(lr_model,open('LR_model.pkl','wb'))\n",
        "lr_model=pickle.load(open('LR_model.pkl','rb'))"
      ]
    },
    {
      "cell_type": "code",
      "execution_count": null,
      "metadata": {
        "id": "Jf_9P-GRzA7o"
      },
      "outputs": [],
      "source": []
    }
  ],
  "metadata": {
    "colab": {
      "provenance": []
    },
    "kernelspec": {
      "display_name": "Python 3.8.3 ('base')",
      "language": "python",
      "name": "python3"
    },
    "language_info": {
      "codemirror_mode": {
        "name": "ipython",
        "version": 3
      },
      "file_extension": ".py",
      "mimetype": "text/x-python",
      "name": "python",
      "nbconvert_exporter": "python",
      "pygments_lexer": "ipython3",
      "version": "3.8.3"
    },
    "vscode": {
      "interpreter": {
        "hash": "4d51e2102394f7997ca25dca1533eeccfb660171d5525332727ecf7a2510e054"
      }
    }
  },
  "nbformat": 4,
  "nbformat_minor": 0
}
